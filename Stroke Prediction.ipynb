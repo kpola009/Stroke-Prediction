{
 "cells": [
  {
   "cell_type": "code",
   "execution_count": 226,
   "metadata": {},
   "outputs": [],
   "source": [
    "import pandas as pd\n",
    "import numpy as np \n",
    "import matplotlib.pyplot as plt\n",
    "import seaborn as sns\n",
    "sns.set(rc={'figure.figsize':(11.7,8.27)})"
   ]
  },
  {
   "cell_type": "markdown",
   "metadata": {},
   "source": [
    "### Introduction \n",
    "\n",
    "As per the Centre for Disease Control and Prevention website a stroke, sometimes also known as brain attack, occurs when something blocks blood supply to part of the brain or when a blood vessel in the brain bursts. Which can result into permanent or lasting damage into the brain, sometimes it also causes long-term disability, or even death. According to the World Health Organization stroke is 2nd leading cause of death globally, responsible for around 11% of total deaths. \n",
    "\n",
    "Dataset: https://www.kaggle.com/datasets/fedesoriano/stroke-prediction-dataset\n",
    "\n",
    "In this project we are going to analyze and predict weather a patient is likely to get a stroke or not based on following input parameters: age, gender, hypertension, heart disease, ever married, work type, residence type, average glucose level, bmi, smoking status. \n"
   ]
  },
  {
   "cell_type": "code",
   "execution_count": 227,
   "metadata": {},
   "outputs": [
    {
     "data": {
      "text/html": [
       "<div>\n",
       "<style scoped>\n",
       "    .dataframe tbody tr th:only-of-type {\n",
       "        vertical-align: middle;\n",
       "    }\n",
       "\n",
       "    .dataframe tbody tr th {\n",
       "        vertical-align: top;\n",
       "    }\n",
       "\n",
       "    .dataframe thead th {\n",
       "        text-align: right;\n",
       "    }\n",
       "</style>\n",
       "<table border=\"1\" class=\"dataframe\">\n",
       "  <thead>\n",
       "    <tr style=\"text-align: right;\">\n",
       "      <th></th>\n",
       "      <th>id</th>\n",
       "      <th>gender</th>\n",
       "      <th>age</th>\n",
       "      <th>hypertension</th>\n",
       "      <th>heart_disease</th>\n",
       "      <th>ever_married</th>\n",
       "      <th>work_type</th>\n",
       "      <th>Residence_type</th>\n",
       "      <th>avg_glucose_level</th>\n",
       "      <th>bmi</th>\n",
       "      <th>smoking_status</th>\n",
       "      <th>stroke</th>\n",
       "    </tr>\n",
       "  </thead>\n",
       "  <tbody>\n",
       "    <tr>\n",
       "      <th>0</th>\n",
       "      <td>9046</td>\n",
       "      <td>Male</td>\n",
       "      <td>67.0</td>\n",
       "      <td>0</td>\n",
       "      <td>1</td>\n",
       "      <td>Yes</td>\n",
       "      <td>Private</td>\n",
       "      <td>Urban</td>\n",
       "      <td>228.69</td>\n",
       "      <td>36.6</td>\n",
       "      <td>formerly smoked</td>\n",
       "      <td>1</td>\n",
       "    </tr>\n",
       "    <tr>\n",
       "      <th>1</th>\n",
       "      <td>51676</td>\n",
       "      <td>Female</td>\n",
       "      <td>61.0</td>\n",
       "      <td>0</td>\n",
       "      <td>0</td>\n",
       "      <td>Yes</td>\n",
       "      <td>Self-employed</td>\n",
       "      <td>Rural</td>\n",
       "      <td>202.21</td>\n",
       "      <td>NaN</td>\n",
       "      <td>never smoked</td>\n",
       "      <td>1</td>\n",
       "    </tr>\n",
       "    <tr>\n",
       "      <th>2</th>\n",
       "      <td>31112</td>\n",
       "      <td>Male</td>\n",
       "      <td>80.0</td>\n",
       "      <td>0</td>\n",
       "      <td>1</td>\n",
       "      <td>Yes</td>\n",
       "      <td>Private</td>\n",
       "      <td>Rural</td>\n",
       "      <td>105.92</td>\n",
       "      <td>32.5</td>\n",
       "      <td>never smoked</td>\n",
       "      <td>1</td>\n",
       "    </tr>\n",
       "    <tr>\n",
       "      <th>3</th>\n",
       "      <td>60182</td>\n",
       "      <td>Female</td>\n",
       "      <td>49.0</td>\n",
       "      <td>0</td>\n",
       "      <td>0</td>\n",
       "      <td>Yes</td>\n",
       "      <td>Private</td>\n",
       "      <td>Urban</td>\n",
       "      <td>171.23</td>\n",
       "      <td>34.4</td>\n",
       "      <td>smokes</td>\n",
       "      <td>1</td>\n",
       "    </tr>\n",
       "    <tr>\n",
       "      <th>4</th>\n",
       "      <td>1665</td>\n",
       "      <td>Female</td>\n",
       "      <td>79.0</td>\n",
       "      <td>1</td>\n",
       "      <td>0</td>\n",
       "      <td>Yes</td>\n",
       "      <td>Self-employed</td>\n",
       "      <td>Rural</td>\n",
       "      <td>174.12</td>\n",
       "      <td>24.0</td>\n",
       "      <td>never smoked</td>\n",
       "      <td>1</td>\n",
       "    </tr>\n",
       "  </tbody>\n",
       "</table>\n",
       "</div>"
      ],
      "text/plain": [
       "      id  gender   age  hypertension  heart_disease ever_married  \\\n",
       "0   9046    Male  67.0             0              1          Yes   \n",
       "1  51676  Female  61.0             0              0          Yes   \n",
       "2  31112    Male  80.0             0              1          Yes   \n",
       "3  60182  Female  49.0             0              0          Yes   \n",
       "4   1665  Female  79.0             1              0          Yes   \n",
       "\n",
       "       work_type Residence_type  avg_glucose_level   bmi   smoking_status  \\\n",
       "0        Private          Urban             228.69  36.6  formerly smoked   \n",
       "1  Self-employed          Rural             202.21   NaN     never smoked   \n",
       "2        Private          Rural             105.92  32.5     never smoked   \n",
       "3        Private          Urban             171.23  34.4           smokes   \n",
       "4  Self-employed          Rural             174.12  24.0     never smoked   \n",
       "\n",
       "   stroke  \n",
       "0       1  \n",
       "1       1  \n",
       "2       1  \n",
       "3       1  \n",
       "4       1  "
      ]
     },
     "execution_count": 227,
     "metadata": {},
     "output_type": "execute_result"
    }
   ],
   "source": [
    "df = pd.read_csv(\"healthcare-dataset-stroke-data.csv\")\n",
    "df.head()"
   ]
  },
  {
   "cell_type": "code",
   "execution_count": 230,
   "metadata": {},
   "outputs": [
    {
     "name": "stdout",
     "output_type": "stream",
     "text": [
      "<class 'pandas.core.frame.DataFrame'>\n",
      "RangeIndex: 5110 entries, 0 to 5109\n",
      "Data columns (total 12 columns):\n",
      " #   Column             Non-Null Count  Dtype  \n",
      "---  ------             --------------  -----  \n",
      " 0   id                 5110 non-null   int64  \n",
      " 1   gender             5110 non-null   object \n",
      " 2   age                5110 non-null   float64\n",
      " 3   hypertension       5110 non-null   int64  \n",
      " 4   heart_disease      5110 non-null   int64  \n",
      " 5   ever_married       5110 non-null   object \n",
      " 6   work_type          5110 non-null   object \n",
      " 7   Residence_type     5110 non-null   object \n",
      " 8   avg_glucose_level  5110 non-null   float64\n",
      " 9   bmi                4909 non-null   float64\n",
      " 10  smoking_status     5110 non-null   object \n",
      " 11  stroke             5110 non-null   int64  \n",
      "dtypes: float64(3), int64(4), object(5)\n",
      "memory usage: 479.2+ KB\n"
     ]
    }
   ],
   "source": [
    "df.info()"
   ]
  },
  {
   "cell_type": "markdown",
   "metadata": {},
   "source": [
    "### Data Preparation"
   ]
  },
  {
   "cell_type": "code",
   "execution_count": 228,
   "metadata": {
    "scrolled": false
   },
   "outputs": [
    {
     "name": "stdout",
     "output_type": "stream",
     "text": [
      "9046     1\n",
      "22194    1\n",
      "15104    1\n",
      "28315    1\n",
      "56996    1\n",
      "        ..\n",
      "897      1\n",
      "4789     1\n",
      "5686     1\n",
      "37451    1\n",
      "44679    1\n",
      "Name: id, Length: 5110, dtype: int64\n",
      "-----------------------\n",
      "Female    2994\n",
      "Male      2115\n",
      "Other        1\n",
      "Name: gender, dtype: int64\n",
      "-----------------------\n",
      "78.00    102\n",
      "57.00     95\n",
      "52.00     90\n",
      "54.00     87\n",
      "51.00     86\n",
      "        ... \n",
      "1.40       3\n",
      "0.48       3\n",
      "0.16       3\n",
      "0.40       2\n",
      "0.08       2\n",
      "Name: age, Length: 104, dtype: int64\n",
      "-----------------------\n",
      "0    4612\n",
      "1     498\n",
      "Name: hypertension, dtype: int64\n",
      "-----------------------\n",
      "0    4834\n",
      "1     276\n",
      "Name: heart_disease, dtype: int64\n",
      "-----------------------\n",
      "Yes    3353\n",
      "No     1757\n",
      "Name: ever_married, dtype: int64\n",
      "-----------------------\n",
      "Private          2925\n",
      "Self-employed     819\n",
      "children          687\n",
      "Govt_job          657\n",
      "Never_worked       22\n",
      "Name: work_type, dtype: int64\n",
      "-----------------------\n",
      "Urban    2596\n",
      "Rural    2514\n",
      "Name: Residence_type, dtype: int64\n",
      "-----------------------\n",
      "93.88     6\n",
      "91.68     5\n",
      "91.85     5\n",
      "83.16     5\n",
      "73.00     5\n",
      "         ..\n",
      "111.93    1\n",
      "94.40     1\n",
      "95.57     1\n",
      "66.29     1\n",
      "85.28     1\n",
      "Name: avg_glucose_level, Length: 3979, dtype: int64\n",
      "-----------------------\n",
      "28.7    41\n",
      "28.4    38\n",
      "26.7    37\n",
      "27.6    37\n",
      "26.1    37\n",
      "        ..\n",
      "48.7     1\n",
      "49.2     1\n",
      "51.0     1\n",
      "49.4     1\n",
      "14.9     1\n",
      "Name: bmi, Length: 418, dtype: int64\n",
      "-----------------------\n",
      "never smoked       1892\n",
      "Unknown            1544\n",
      "formerly smoked     885\n",
      "smokes              789\n",
      "Name: smoking_status, dtype: int64\n",
      "-----------------------\n",
      "0    4861\n",
      "1     249\n",
      "Name: stroke, dtype: int64\n",
      "-----------------------\n"
     ]
    }
   ],
   "source": [
    "# Checking unique values and their count for each feature\n",
    "for i in df.columns:\n",
    "    print(df[i].value_counts())\n",
    "    print(\"-----------------------\")"
   ]
  },
  {
   "cell_type": "markdown",
   "metadata": {},
   "source": [
    "- First thing we can notice here is our target variable 'stroke' is higly unbalanced with 4861 records of patients with non-stroke and 249 records of patients with storke. \n",
    "- We also noticed that we have only 1 record of gender = Other in the dataset which can be considerd as outlier for given dataset"
   ]
  },
  {
   "cell_type": "code",
   "execution_count": 201,
   "metadata": {},
   "outputs": [],
   "source": [
    "# droping record gender = Other\n",
    "df = df[df['gender']!='Other']"
   ]
  },
  {
   "cell_type": "code",
   "execution_count": 202,
   "metadata": {},
   "outputs": [
    {
     "data": {
      "text/plain": [
       "id                     0\n",
       "gender                 0\n",
       "age                    0\n",
       "hypertension           0\n",
       "heart_disease          0\n",
       "ever_married           0\n",
       "work_type              0\n",
       "Residence_type         0\n",
       "avg_glucose_level      0\n",
       "bmi                  201\n",
       "smoking_status         0\n",
       "stroke                 0\n",
       "dtype: int64"
      ]
     },
     "execution_count": 202,
     "metadata": {},
     "output_type": "execute_result"
    }
   ],
   "source": [
    "# Looking for null values\n",
    "df.isnull().sum()"
   ]
  },
  {
   "cell_type": "code",
   "execution_count": 203,
   "metadata": {},
   "outputs": [
    {
     "data": {
      "text/plain": [
       "30.471291866028707"
      ]
     },
     "execution_count": 203,
     "metadata": {},
     "output_type": "execute_result"
    }
   ],
   "source": [
    "# Calculating mean of bmi for records with stroke\n",
    "bmi_mean_stroke = df[df['stroke'] == 1]['bmi'].mean()\n",
    "bmi_mean_stroke"
   ]
  },
  {
   "cell_type": "code",
   "execution_count": 204,
   "metadata": {},
   "outputs": [
    {
     "data": {
      "text/plain": [
       "28.82443072994254"
      ]
     },
     "execution_count": 204,
     "metadata": {},
     "output_type": "execute_result"
    }
   ],
   "source": [
    "# Calculating mean of bmi for records with non-stroke\n",
    "bmi_mean_no_stroke = df[df['stroke'] == 0]['bmi'].mean()\n",
    "bmi_mean_no_stroke"
   ]
  },
  {
   "cell_type": "code",
   "execution_count": 205,
   "metadata": {},
   "outputs": [],
   "source": [
    "# Replacing null values with the mean\n",
    "df.loc[df['stroke']==1,'bmi'] = df.loc[df['stroke']==1, 'bmi'].fillna(bmi_mean_stroke)\n",
    "df.loc[df['stroke']==0,'bmi'] = df.loc[df['stroke']==0, 'bmi'].fillna(bmi_mean_no_stroke)"
   ]
  },
  {
   "cell_type": "code",
   "execution_count": 206,
   "metadata": {
    "scrolled": true
   },
   "outputs": [
    {
     "data": {
      "text/html": [
       "<div>\n",
       "<style scoped>\n",
       "    .dataframe tbody tr th:only-of-type {\n",
       "        vertical-align: middle;\n",
       "    }\n",
       "\n",
       "    .dataframe tbody tr th {\n",
       "        vertical-align: top;\n",
       "    }\n",
       "\n",
       "    .dataframe thead th {\n",
       "        text-align: right;\n",
       "    }\n",
       "</style>\n",
       "<table border=\"1\" class=\"dataframe\">\n",
       "  <thead>\n",
       "    <tr style=\"text-align: right;\">\n",
       "      <th></th>\n",
       "      <th>id</th>\n",
       "      <th>gender</th>\n",
       "      <th>age</th>\n",
       "      <th>hypertension</th>\n",
       "      <th>heart_disease</th>\n",
       "      <th>ever_married</th>\n",
       "      <th>work_type</th>\n",
       "      <th>Residence_type</th>\n",
       "      <th>avg_glucose_level</th>\n",
       "      <th>bmi</th>\n",
       "      <th>smoking_status</th>\n",
       "      <th>stroke</th>\n",
       "    </tr>\n",
       "  </thead>\n",
       "  <tbody>\n",
       "    <tr>\n",
       "      <th>0</th>\n",
       "      <td>9046</td>\n",
       "      <td>Male</td>\n",
       "      <td>67.0</td>\n",
       "      <td>0</td>\n",
       "      <td>1</td>\n",
       "      <td>Yes</td>\n",
       "      <td>Private</td>\n",
       "      <td>Urban</td>\n",
       "      <td>228.69</td>\n",
       "      <td>36.600000</td>\n",
       "      <td>formerly smoked</td>\n",
       "      <td>1</td>\n",
       "    </tr>\n",
       "    <tr>\n",
       "      <th>1</th>\n",
       "      <td>51676</td>\n",
       "      <td>Female</td>\n",
       "      <td>61.0</td>\n",
       "      <td>0</td>\n",
       "      <td>0</td>\n",
       "      <td>Yes</td>\n",
       "      <td>Self-employed</td>\n",
       "      <td>Rural</td>\n",
       "      <td>202.21</td>\n",
       "      <td>30.471292</td>\n",
       "      <td>never smoked</td>\n",
       "      <td>1</td>\n",
       "    </tr>\n",
       "    <tr>\n",
       "      <th>2</th>\n",
       "      <td>31112</td>\n",
       "      <td>Male</td>\n",
       "      <td>80.0</td>\n",
       "      <td>0</td>\n",
       "      <td>1</td>\n",
       "      <td>Yes</td>\n",
       "      <td>Private</td>\n",
       "      <td>Rural</td>\n",
       "      <td>105.92</td>\n",
       "      <td>32.500000</td>\n",
       "      <td>never smoked</td>\n",
       "      <td>1</td>\n",
       "    </tr>\n",
       "    <tr>\n",
       "      <th>3</th>\n",
       "      <td>60182</td>\n",
       "      <td>Female</td>\n",
       "      <td>49.0</td>\n",
       "      <td>0</td>\n",
       "      <td>0</td>\n",
       "      <td>Yes</td>\n",
       "      <td>Private</td>\n",
       "      <td>Urban</td>\n",
       "      <td>171.23</td>\n",
       "      <td>34.400000</td>\n",
       "      <td>smokes</td>\n",
       "      <td>1</td>\n",
       "    </tr>\n",
       "    <tr>\n",
       "      <th>4</th>\n",
       "      <td>1665</td>\n",
       "      <td>Female</td>\n",
       "      <td>79.0</td>\n",
       "      <td>1</td>\n",
       "      <td>0</td>\n",
       "      <td>Yes</td>\n",
       "      <td>Self-employed</td>\n",
       "      <td>Rural</td>\n",
       "      <td>174.12</td>\n",
       "      <td>24.000000</td>\n",
       "      <td>never smoked</td>\n",
       "      <td>1</td>\n",
       "    </tr>\n",
       "    <tr>\n",
       "      <th>...</th>\n",
       "      <td>...</td>\n",
       "      <td>...</td>\n",
       "      <td>...</td>\n",
       "      <td>...</td>\n",
       "      <td>...</td>\n",
       "      <td>...</td>\n",
       "      <td>...</td>\n",
       "      <td>...</td>\n",
       "      <td>...</td>\n",
       "      <td>...</td>\n",
       "      <td>...</td>\n",
       "      <td>...</td>\n",
       "    </tr>\n",
       "    <tr>\n",
       "      <th>5105</th>\n",
       "      <td>18234</td>\n",
       "      <td>Female</td>\n",
       "      <td>80.0</td>\n",
       "      <td>1</td>\n",
       "      <td>0</td>\n",
       "      <td>Yes</td>\n",
       "      <td>Private</td>\n",
       "      <td>Urban</td>\n",
       "      <td>83.75</td>\n",
       "      <td>28.824431</td>\n",
       "      <td>never smoked</td>\n",
       "      <td>0</td>\n",
       "    </tr>\n",
       "    <tr>\n",
       "      <th>5106</th>\n",
       "      <td>44873</td>\n",
       "      <td>Female</td>\n",
       "      <td>81.0</td>\n",
       "      <td>0</td>\n",
       "      <td>0</td>\n",
       "      <td>Yes</td>\n",
       "      <td>Self-employed</td>\n",
       "      <td>Urban</td>\n",
       "      <td>125.20</td>\n",
       "      <td>40.000000</td>\n",
       "      <td>never smoked</td>\n",
       "      <td>0</td>\n",
       "    </tr>\n",
       "    <tr>\n",
       "      <th>5107</th>\n",
       "      <td>19723</td>\n",
       "      <td>Female</td>\n",
       "      <td>35.0</td>\n",
       "      <td>0</td>\n",
       "      <td>0</td>\n",
       "      <td>Yes</td>\n",
       "      <td>Self-employed</td>\n",
       "      <td>Rural</td>\n",
       "      <td>82.99</td>\n",
       "      <td>30.600000</td>\n",
       "      <td>never smoked</td>\n",
       "      <td>0</td>\n",
       "    </tr>\n",
       "    <tr>\n",
       "      <th>5108</th>\n",
       "      <td>37544</td>\n",
       "      <td>Male</td>\n",
       "      <td>51.0</td>\n",
       "      <td>0</td>\n",
       "      <td>0</td>\n",
       "      <td>Yes</td>\n",
       "      <td>Private</td>\n",
       "      <td>Rural</td>\n",
       "      <td>166.29</td>\n",
       "      <td>25.600000</td>\n",
       "      <td>formerly smoked</td>\n",
       "      <td>0</td>\n",
       "    </tr>\n",
       "    <tr>\n",
       "      <th>5109</th>\n",
       "      <td>44679</td>\n",
       "      <td>Female</td>\n",
       "      <td>44.0</td>\n",
       "      <td>0</td>\n",
       "      <td>0</td>\n",
       "      <td>Yes</td>\n",
       "      <td>Govt_job</td>\n",
       "      <td>Urban</td>\n",
       "      <td>85.28</td>\n",
       "      <td>26.200000</td>\n",
       "      <td>Unknown</td>\n",
       "      <td>0</td>\n",
       "    </tr>\n",
       "  </tbody>\n",
       "</table>\n",
       "<p>5109 rows × 12 columns</p>\n",
       "</div>"
      ],
      "text/plain": [
       "         id  gender   age  hypertension  heart_disease ever_married  \\\n",
       "0      9046    Male  67.0             0              1          Yes   \n",
       "1     51676  Female  61.0             0              0          Yes   \n",
       "2     31112    Male  80.0             0              1          Yes   \n",
       "3     60182  Female  49.0             0              0          Yes   \n",
       "4      1665  Female  79.0             1              0          Yes   \n",
       "...     ...     ...   ...           ...            ...          ...   \n",
       "5105  18234  Female  80.0             1              0          Yes   \n",
       "5106  44873  Female  81.0             0              0          Yes   \n",
       "5107  19723  Female  35.0             0              0          Yes   \n",
       "5108  37544    Male  51.0             0              0          Yes   \n",
       "5109  44679  Female  44.0             0              0          Yes   \n",
       "\n",
       "          work_type Residence_type  avg_glucose_level        bmi  \\\n",
       "0           Private          Urban             228.69  36.600000   \n",
       "1     Self-employed          Rural             202.21  30.471292   \n",
       "2           Private          Rural             105.92  32.500000   \n",
       "3           Private          Urban             171.23  34.400000   \n",
       "4     Self-employed          Rural             174.12  24.000000   \n",
       "...             ...            ...                ...        ...   \n",
       "5105        Private          Urban              83.75  28.824431   \n",
       "5106  Self-employed          Urban             125.20  40.000000   \n",
       "5107  Self-employed          Rural              82.99  30.600000   \n",
       "5108        Private          Rural             166.29  25.600000   \n",
       "5109       Govt_job          Urban              85.28  26.200000   \n",
       "\n",
       "       smoking_status  stroke  \n",
       "0     formerly smoked       1  \n",
       "1        never smoked       1  \n",
       "2        never smoked       1  \n",
       "3              smokes       1  \n",
       "4        never smoked       1  \n",
       "...               ...     ...  \n",
       "5105     never smoked       0  \n",
       "5106     never smoked       0  \n",
       "5107     never smoked       0  \n",
       "5108  formerly smoked       0  \n",
       "5109          Unknown       0  \n",
       "\n",
       "[5109 rows x 12 columns]"
      ]
     },
     "execution_count": 206,
     "metadata": {},
     "output_type": "execute_result"
    }
   ],
   "source": [
    "df"
   ]
  },
  {
   "cell_type": "markdown",
   "metadata": {},
   "source": [
    "### EDA"
   ]
  },
  {
   "cell_type": "code",
   "execution_count": 207,
   "metadata": {},
   "outputs": [],
   "source": [
    "# Calculating correlation\n",
    "corr = df.corr()"
   ]
  },
  {
   "cell_type": "markdown",
   "metadata": {},
   "source": [
    "Here I am calculating correlation to check the relationship between our input feature and the target feature\n",
    "\n",
    "- Calulating correlation using the above method will only calculate for continuous features for categorical features we have to use chi-square method "
   ]
  },
  {
   "cell_type": "code",
   "execution_count": 229,
   "metadata": {},
   "outputs": [
    {
     "data": {
      "text/plain": [
       "<AxesSubplot:>"
      ]
     },
     "execution_count": 229,
     "metadata": {},
     "output_type": "execute_result"
    },
    {
     "data": {
      "image/png": "[encoded data removed]",
      "text/plain": [
       "<Figure size 842.4x595.44 with 2 Axes>"
      ]
     },
     "metadata": {},
     "output_type": "display_data"
    }
   ],
   "source": [
    "sns.heatmap(corr)"
   ]
  },
  {
   "cell_type": "markdown",
   "metadata": {},
   "source": [
    "From the above graph we can infer apart from feature 'bmi' all the other continuous features are somewhat correlated to the 'stroke' where 'bmi' seems to have no linear correlation with 'stroke'"
   ]
  },
  {
   "cell_type": "markdown",
   "metadata": {},
   "source": [
    "##### Chi-Square test"
   ]
  },
  {
   "cell_type": "code",
   "execution_count": 238,
   "metadata": {},
   "outputs": [
    {
     "data": {
      "text/plain": [
       "non-stroke    4861\n",
       "stroke         249\n",
       "Name: stroke, dtype: int64"
      ]
     },
     "execution_count": 238,
     "metadata": {},
     "output_type": "execute_result"
    }
   ],
   "source": [
    "df_stroke = df\n",
    "df_stroke['stroke'].replace(1, 'stroke', inplace = True)\n",
    "df_stroke['stroke'].replace(0, 'non-stroke', inplace = True)"
   ]
  },
  {
   "cell_type": "code",
   "execution_count": 239,
   "metadata": {},
   "outputs": [
    {
     "data": {
      "text/html": [
       "<div>\n",
       "<style scoped>\n",
       "    .dataframe tbody tr th:only-of-type {\n",
       "        vertical-align: middle;\n",
       "    }\n",
       "\n",
       "    .dataframe tbody tr th {\n",
       "        vertical-align: top;\n",
       "    }\n",
       "\n",
       "    .dataframe thead th {\n",
       "        text-align: right;\n",
       "    }\n",
       "</style>\n",
       "<table border=\"1\" class=\"dataframe\">\n",
       "  <thead>\n",
       "    <tr style=\"text-align: right;\">\n",
       "      <th></th>\n",
       "      <th>gender</th>\n",
       "      <th>ever_married</th>\n",
       "      <th>work_type</th>\n",
       "      <th>Residence_type</th>\n",
       "      <th>smoking_status</th>\n",
       "      <th>stroke</th>\n",
       "    </tr>\n",
       "  </thead>\n",
       "  <tbody>\n",
       "    <tr>\n",
       "      <th>0</th>\n",
       "      <td>Male</td>\n",
       "      <td>Yes</td>\n",
       "      <td>Private</td>\n",
       "      <td>Urban</td>\n",
       "      <td>formerly smoked</td>\n",
       "      <td>stroke</td>\n",
       "    </tr>\n",
       "    <tr>\n",
       "      <th>1</th>\n",
       "      <td>Female</td>\n",
       "      <td>Yes</td>\n",
       "      <td>Self-employed</td>\n",
       "      <td>Rural</td>\n",
       "      <td>never smoked</td>\n",
       "      <td>stroke</td>\n",
       "    </tr>\n",
       "    <tr>\n",
       "      <th>2</th>\n",
       "      <td>Male</td>\n",
       "      <td>Yes</td>\n",
       "      <td>Private</td>\n",
       "      <td>Rural</td>\n",
       "      <td>never smoked</td>\n",
       "      <td>stroke</td>\n",
       "    </tr>\n",
       "    <tr>\n",
       "      <th>3</th>\n",
       "      <td>Female</td>\n",
       "      <td>Yes</td>\n",
       "      <td>Private</td>\n",
       "      <td>Urban</td>\n",
       "      <td>smokes</td>\n",
       "      <td>stroke</td>\n",
       "    </tr>\n",
       "    <tr>\n",
       "      <th>4</th>\n",
       "      <td>Female</td>\n",
       "      <td>Yes</td>\n",
       "      <td>Self-employed</td>\n",
       "      <td>Rural</td>\n",
       "      <td>never smoked</td>\n",
       "      <td>stroke</td>\n",
       "    </tr>\n",
       "  </tbody>\n",
       "</table>\n",
       "</div>"
      ],
      "text/plain": [
       "   gender ever_married      work_type Residence_type   smoking_status  stroke\n",
       "0    Male          Yes        Private          Urban  formerly smoked  stroke\n",
       "1  Female          Yes  Self-employed          Rural     never smoked  stroke\n",
       "2    Male          Yes        Private          Rural     never smoked  stroke\n",
       "3  Female          Yes        Private          Urban           smokes  stroke\n",
       "4  Female          Yes  Self-employed          Rural     never smoked  stroke"
      ]
     },
     "execution_count": 239,
     "metadata": {},
     "output_type": "execute_result"
    }
   ],
   "source": [
    "# preparing data for chi-square test\n",
    "import scipy.stats as ss\n",
    "\n",
    "df_cat = pd.DataFrame(data = df_stroke.dtypes, columns = \n",
    "                                         ['a']).reset_index()\n",
    "\n",
    "cat_var = list(df_cat['index'].loc[df_cat['a'] == 'object'])\n",
    "cat_var\n",
    "\n",
    "df_cat = df_stroke[cat_var]\n",
    "df_cat.head()"
   ]
  },
  {
   "cell_type": "code",
   "execution_count": 242,
   "metadata": {
    "scrolled": true
   },
   "outputs": [
    {
     "data": {
      "text/plain": [
       "[('gender', 'gender'),\n",
       " ('gender', 'ever_married'),\n",
       " ('gender', 'work_type'),\n",
       " ('gender', 'Residence_type'),\n",
       " ('gender', 'smoking_status'),\n",
       " ('gender', 'stroke'),\n",
       " ('ever_married', 'gender'),\n",
       " ('ever_married', 'ever_married'),\n",
       " ('ever_married', 'work_type'),\n",
       " ('ever_married', 'Residence_type'),\n",
       " ('ever_married', 'smoking_status'),\n",
       " ('ever_married', 'stroke'),\n",
       " ('work_type', 'gender'),\n",
       " ('work_type', 'ever_married'),\n",
       " ('work_type', 'work_type'),\n",
       " ('work_type', 'Residence_type'),\n",
       " ('work_type', 'smoking_status'),\n",
       " ('work_type', 'stroke'),\n",
       " ('Residence_type', 'gender'),\n",
       " ('Residence_type', 'ever_married'),\n",
       " ('Residence_type', 'work_type'),\n",
       " ('Residence_type', 'Residence_type'),\n",
       " ('Residence_type', 'smoking_status'),\n",
       " ('Residence_type', 'stroke'),\n",
       " ('smoking_status', 'gender'),\n",
       " ('smoking_status', 'ever_married'),\n",
       " ('smoking_status', 'work_type'),\n",
       " ('smoking_status', 'Residence_type'),\n",
       " ('smoking_status', 'smoking_status'),\n",
       " ('smoking_status', 'stroke'),\n",
       " ('stroke', 'gender'),\n",
       " ('stroke', 'ever_married'),\n",
       " ('stroke', 'work_type'),\n",
       " ('stroke', 'Residence_type'),\n",
       " ('stroke', 'smoking_status'),\n",
       " ('stroke', 'stroke')]"
      ]
     },
     "execution_count": 242,
     "metadata": {},
     "output_type": "execute_result"
    }
   ],
   "source": [
    "from itertools import product\n",
    "cat_var1 = ('gender', 'ever_married', 'work_type','Residence_type','smoking_status', 'stroke')\n",
    "cat_var2 = ('gender', 'ever_married', 'work_type','Residence_type','smoking_status', 'stroke')\n",
    "\n",
    "cat_var_prod = list(product(cat_var1,cat_var2, repeat = 1))\n",
    "cat_var_prod"
   ]
  },
  {
   "cell_type": "code",
   "execution_count": 245,
   "metadata": {},
   "outputs": [],
   "source": [
    "result = []\n",
    "for i in cat_var_prod:\n",
    "    if i[0] != i[1]:\n",
    "        result.append((i[0],i[1],list(ss.chi2_contingency(pd.crosstab(\n",
    "                            df_cat[i[0]], df_cat[i[1]])))[1]))"
   ]
  },
  {
   "cell_type": "code",
   "execution_count": 246,
   "metadata": {
    "scrolled": true
   },
   "outputs": [
    {
     "data": {
      "text/plain": [
       "[('gender', 'ever_married', 0.03765357700623182),\n",
       " ('gender', 'work_type', 8.503150002091437e-07),\n",
       " ('gender', 'Residence_type', 0.5424771131010444),\n",
       " ('gender', 'smoking_status', 1.5603072385938315e-10),\n",
       " ('gender', 'stroke', 0.7895490538408245),\n",
       " ('ever_married', 'gender', 0.03765357700623181),\n",
       " ('ever_married', 'work_type', 0.0),\n",
       " ('ever_married', 'Residence_type', 0.6758709948883584),\n",
       " ('ever_married', 'smoking_status', 1.6221999465259415e-129),\n",
       " ('ever_married', 'stroke', 1.6389021142314745e-14),\n",
       " ('work_type', 'gender', 8.503150002091437e-07),\n",
       " ('work_type', 'ever_married', 0.0),\n",
       " ('work_type', 'Residence_type', 0.3247539903013214),\n",
       " ('work_type', 'smoking_status', 3.1032817784869454e-290),\n",
       " ('work_type', 'stroke', 5.397707801896119e-10),\n",
       " ('Residence_type', 'gender', 0.5424771131010444),\n",
       " ('Residence_type', 'ever_married', 0.6758709948883584),\n",
       " ('Residence_type', 'work_type', 0.3247539903013214),\n",
       " ('Residence_type', 'smoking_status', 0.1446816181529684),\n",
       " ('Residence_type', 'stroke', 0.29833169286876987),\n",
       " ('smoking_status', 'gender', 1.5603072385938315e-10),\n",
       " ('smoking_status', 'ever_married', 1.6221999465259415e-129),\n",
       " ('smoking_status', 'work_type', 3.1032817784869454e-290),\n",
       " ('smoking_status', 'Residence_type', 0.1446816181529684),\n",
       " ('smoking_status', 'stroke', 2.0853997025008455e-06),\n",
       " ('stroke', 'gender', 0.7895490538408245),\n",
       " ('stroke', 'ever_married', 1.6389021142314745e-14),\n",
       " ('stroke', 'work_type', 5.397707801896119e-10),\n",
       " ('stroke', 'Residence_type', 0.29833169286876987),\n",
       " ('stroke', 'smoking_status', 2.0853997025008455e-06)]"
      ]
     },
     "execution_count": 246,
     "metadata": {},
     "output_type": "execute_result"
    }
   ],
   "source": [
    "result"
   ]
  },
  {
   "cell_type": "code",
   "execution_count": 249,
   "metadata": {},
   "outputs": [
    {
     "data": {
      "text/html": [
       "<div>\n",
       "<style scoped>\n",
       "    .dataframe tbody tr th:only-of-type {\n",
       "        vertical-align: middle;\n",
       "    }\n",
       "\n",
       "    .dataframe tbody tr th {\n",
       "        vertical-align: top;\n",
       "    }\n",
       "\n",
       "    .dataframe thead th {\n",
       "        text-align: right;\n",
       "    }\n",
       "</style>\n",
       "<table border=\"1\" class=\"dataframe\">\n",
       "  <thead>\n",
       "    <tr style=\"text-align: right;\">\n",
       "      <th></th>\n",
       "      <th>var1</th>\n",
       "      <th>var2</th>\n",
       "      <th>coeff</th>\n",
       "    </tr>\n",
       "  </thead>\n",
       "  <tbody>\n",
       "    <tr>\n",
       "      <th>0</th>\n",
       "      <td>gender</td>\n",
       "      <td>ever_married</td>\n",
       "      <td>3.765358e-02</td>\n",
       "    </tr>\n",
       "    <tr>\n",
       "      <th>1</th>\n",
       "      <td>gender</td>\n",
       "      <td>work_type</td>\n",
       "      <td>8.503150e-07</td>\n",
       "    </tr>\n",
       "    <tr>\n",
       "      <th>2</th>\n",
       "      <td>gender</td>\n",
       "      <td>Residence_type</td>\n",
       "      <td>5.424771e-01</td>\n",
       "    </tr>\n",
       "    <tr>\n",
       "      <th>3</th>\n",
       "      <td>gender</td>\n",
       "      <td>smoking_status</td>\n",
       "      <td>1.560307e-10</td>\n",
       "    </tr>\n",
       "    <tr>\n",
       "      <th>4</th>\n",
       "      <td>gender</td>\n",
       "      <td>stroke</td>\n",
       "      <td>7.895491e-01</td>\n",
       "    </tr>\n",
       "    <tr>\n",
       "      <th>5</th>\n",
       "      <td>ever_married</td>\n",
       "      <td>gender</td>\n",
       "      <td>3.765358e-02</td>\n",
       "    </tr>\n",
       "    <tr>\n",
       "      <th>6</th>\n",
       "      <td>ever_married</td>\n",
       "      <td>work_type</td>\n",
       "      <td>0.000000e+00</td>\n",
       "    </tr>\n",
       "    <tr>\n",
       "      <th>7</th>\n",
       "      <td>ever_married</td>\n",
       "      <td>Residence_type</td>\n",
       "      <td>6.758710e-01</td>\n",
       "    </tr>\n",
       "    <tr>\n",
       "      <th>8</th>\n",
       "      <td>ever_married</td>\n",
       "      <td>smoking_status</td>\n",
       "      <td>1.622200e-129</td>\n",
       "    </tr>\n",
       "    <tr>\n",
       "      <th>9</th>\n",
       "      <td>ever_married</td>\n",
       "      <td>stroke</td>\n",
       "      <td>1.638902e-14</td>\n",
       "    </tr>\n",
       "    <tr>\n",
       "      <th>10</th>\n",
       "      <td>work_type</td>\n",
       "      <td>gender</td>\n",
       "      <td>8.503150e-07</td>\n",
       "    </tr>\n",
       "    <tr>\n",
       "      <th>11</th>\n",
       "      <td>work_type</td>\n",
       "      <td>ever_married</td>\n",
       "      <td>0.000000e+00</td>\n",
       "    </tr>\n",
       "    <tr>\n",
       "      <th>12</th>\n",
       "      <td>work_type</td>\n",
       "      <td>Residence_type</td>\n",
       "      <td>3.247540e-01</td>\n",
       "    </tr>\n",
       "    <tr>\n",
       "      <th>13</th>\n",
       "      <td>work_type</td>\n",
       "      <td>smoking_status</td>\n",
       "      <td>3.103282e-290</td>\n",
       "    </tr>\n",
       "    <tr>\n",
       "      <th>14</th>\n",
       "      <td>work_type</td>\n",
       "      <td>stroke</td>\n",
       "      <td>5.397708e-10</td>\n",
       "    </tr>\n",
       "    <tr>\n",
       "      <th>15</th>\n",
       "      <td>Residence_type</td>\n",
       "      <td>gender</td>\n",
       "      <td>5.424771e-01</td>\n",
       "    </tr>\n",
       "    <tr>\n",
       "      <th>16</th>\n",
       "      <td>Residence_type</td>\n",
       "      <td>ever_married</td>\n",
       "      <td>6.758710e-01</td>\n",
       "    </tr>\n",
       "    <tr>\n",
       "      <th>17</th>\n",
       "      <td>Residence_type</td>\n",
       "      <td>work_type</td>\n",
       "      <td>3.247540e-01</td>\n",
       "    </tr>\n",
       "    <tr>\n",
       "      <th>18</th>\n",
       "      <td>Residence_type</td>\n",
       "      <td>smoking_status</td>\n",
       "      <td>1.446816e-01</td>\n",
       "    </tr>\n",
       "    <tr>\n",
       "      <th>19</th>\n",
       "      <td>Residence_type</td>\n",
       "      <td>stroke</td>\n",
       "      <td>2.983317e-01</td>\n",
       "    </tr>\n",
       "    <tr>\n",
       "      <th>20</th>\n",
       "      <td>smoking_status</td>\n",
       "      <td>gender</td>\n",
       "      <td>1.560307e-10</td>\n",
       "    </tr>\n",
       "    <tr>\n",
       "      <th>21</th>\n",
       "      <td>smoking_status</td>\n",
       "      <td>ever_married</td>\n",
       "      <td>1.622200e-129</td>\n",
       "    </tr>\n",
       "    <tr>\n",
       "      <th>22</th>\n",
       "      <td>smoking_status</td>\n",
       "      <td>work_type</td>\n",
       "      <td>3.103282e-290</td>\n",
       "    </tr>\n",
       "    <tr>\n",
       "      <th>23</th>\n",
       "      <td>smoking_status</td>\n",
       "      <td>Residence_type</td>\n",
       "      <td>1.446816e-01</td>\n",
       "    </tr>\n",
       "    <tr>\n",
       "      <th>24</th>\n",
       "      <td>smoking_status</td>\n",
       "      <td>stroke</td>\n",
       "      <td>2.085400e-06</td>\n",
       "    </tr>\n",
       "    <tr>\n",
       "      <th>25</th>\n",
       "      <td>stroke</td>\n",
       "      <td>gender</td>\n",
       "      <td>7.895491e-01</td>\n",
       "    </tr>\n",
       "    <tr>\n",
       "      <th>26</th>\n",
       "      <td>stroke</td>\n",
       "      <td>ever_married</td>\n",
       "      <td>1.638902e-14</td>\n",
       "    </tr>\n",
       "    <tr>\n",
       "      <th>27</th>\n",
       "      <td>stroke</td>\n",
       "      <td>work_type</td>\n",
       "      <td>5.397708e-10</td>\n",
       "    </tr>\n",
       "    <tr>\n",
       "      <th>28</th>\n",
       "      <td>stroke</td>\n",
       "      <td>Residence_type</td>\n",
       "      <td>2.983317e-01</td>\n",
       "    </tr>\n",
       "    <tr>\n",
       "      <th>29</th>\n",
       "      <td>stroke</td>\n",
       "      <td>smoking_status</td>\n",
       "      <td>2.085400e-06</td>\n",
       "    </tr>\n",
       "  </tbody>\n",
       "</table>\n",
       "</div>"
      ],
      "text/plain": [
       "              var1            var2          coeff\n",
       "0           gender    ever_married   3.765358e-02\n",
       "1           gender       work_type   8.503150e-07\n",
       "2           gender  Residence_type   5.424771e-01\n",
       "3           gender  smoking_status   1.560307e-10\n",
       "4           gender          stroke   7.895491e-01\n",
       "5     ever_married          gender   3.765358e-02\n",
       "6     ever_married       work_type   0.000000e+00\n",
       "7     ever_married  Residence_type   6.758710e-01\n",
       "8     ever_married  smoking_status  1.622200e-129\n",
       "9     ever_married          stroke   1.638902e-14\n",
       "10       work_type          gender   8.503150e-07\n",
       "11       work_type    ever_married   0.000000e+00\n",
       "12       work_type  Residence_type   3.247540e-01\n",
       "13       work_type  smoking_status  3.103282e-290\n",
       "14       work_type          stroke   5.397708e-10\n",
       "15  Residence_type          gender   5.424771e-01\n",
       "16  Residence_type    ever_married   6.758710e-01\n",
       "17  Residence_type       work_type   3.247540e-01\n",
       "18  Residence_type  smoking_status   1.446816e-01\n",
       "19  Residence_type          stroke   2.983317e-01\n",
       "20  smoking_status          gender   1.560307e-10\n",
       "21  smoking_status    ever_married  1.622200e-129\n",
       "22  smoking_status       work_type  3.103282e-290\n",
       "23  smoking_status  Residence_type   1.446816e-01\n",
       "24  smoking_status          stroke   2.085400e-06\n",
       "25          stroke          gender   7.895491e-01\n",
       "26          stroke    ever_married   1.638902e-14\n",
       "27          stroke       work_type   5.397708e-10\n",
       "28          stroke  Residence_type   2.983317e-01\n",
       "29          stroke  smoking_status   2.085400e-06"
      ]
     },
     "execution_count": 249,
     "metadata": {},
     "output_type": "execute_result"
    }
   ],
   "source": [
    "chi_test_output = pd.DataFrame(result, columns = ['var1', 'var2', \n",
    "                                                       'coeff'])\n",
    "chi_test_output"
   ]
  },
  {
   "cell_type": "markdown",
   "metadata": {},
   "source": [
    "The result of chi-square test stats that there exists a relationship between two variables if p value <=0.5. So in our case apart from residence_type all the other features have p value less <= 0.5. so ther is relationship between gender and stroke, ever_married and stroke, work_type and stroke, smoking status and stroke."
   ]
  },
  {
   "cell_type": "code",
   "execution_count": 210,
   "metadata": {},
   "outputs": [
    {
     "data": {
      "text/plain": [
       "<AxesSubplot:xlabel='age', ylabel='Count'>"
      ]
     },
     "execution_count": 210,
     "metadata": {},
     "output_type": "execute_result"
    },
    {
     "data": {
      "image/png": "[encoded data removed]",
      "text/plain": [
       "<Figure size 842.4x595.44 with 1 Axes>"
      ]
     },
     "metadata": {},
     "output_type": "display_data"
    }
   ],
   "source": [
    "sns.histplot(data = df, x = 'age', hue = 'stroke')"
   ]
  },
  {
   "cell_type": "code",
   "execution_count": 211,
   "metadata": {},
   "outputs": [
    {
     "data": {
      "text/plain": [
       "<AxesSubplot:xlabel='heart_disease', ylabel='Count'>"
      ]
     },
     "execution_count": 211,
     "metadata": {},
     "output_type": "execute_result"
    },
    {
     "data": {
      "image/png": "[encoded data removed]",
      "text/plain": [
       "<Figure size 842.4x595.44 with 1 Axes>"
      ]
     },
     "metadata": {},
     "output_type": "display_data"
    }
   ],
   "source": [
    "sns.histplot(data = df, x = 'heart_disease', hue = 'stroke')"
   ]
  },
  {
   "cell_type": "code",
   "execution_count": 212,
   "metadata": {},
   "outputs": [
    {
     "data": {
      "text/plain": [
       "<AxesSubplot:xlabel='hypertension', ylabel='Count'>"
      ]
     },
     "execution_count": 212,
     "metadata": {},
     "output_type": "execute_result"
    },
    {
     "data": {
      "image/png": "[encoded data removed]",
      "text/plain": [
       "<Figure size 842.4x595.44 with 1 Axes>"
      ]
     },
     "metadata": {},
     "output_type": "display_data"
    }
   ],
   "source": [
    "sns.histplot(data = df, x = 'hypertension', hue = 'stroke')"
   ]
  },
  {
   "cell_type": "code",
   "execution_count": 250,
   "metadata": {},
   "outputs": [
    {
     "data": {
      "text/plain": [
       "<AxesSubplot:xlabel='smoking_status', ylabel='Count'>"
      ]
     },
     "execution_count": 250,
     "metadata": {},
     "output_type": "execute_result"
    },
    {
     "data": {
      "image/png": "[encoded data removed]",
      "text/plain": [
       "<Figure size 842.4x595.44 with 1 Axes>"
      ]
     },
     "metadata": {},
     "output_type": "display_data"
    }
   ],
   "source": [
    "sns.histplot(data = df, x = 'smoking_status', hue = 'stroke')"
   ]
  },
  {
   "cell_type": "code",
   "execution_count": 213,
   "metadata": {},
   "outputs": [
    {
     "name": "stdout",
     "output_type": "stream",
     "text": [
      "<class 'pandas.core.frame.DataFrame'>\n",
      "Int64Index: 5109 entries, 0 to 5109\n",
      "Data columns (total 12 columns):\n",
      " #   Column             Non-Null Count  Dtype  \n",
      "---  ------             --------------  -----  \n",
      " 0   id                 5109 non-null   int64  \n",
      " 1   gender             5109 non-null   object \n",
      " 2   age                5109 non-null   float64\n",
      " 3   hypertension       5109 non-null   int64  \n",
      " 4   heart_disease      5109 non-null   int64  \n",
      " 5   ever_married       5109 non-null   object \n",
      " 6   work_type          5109 non-null   object \n",
      " 7   Residence_type     5109 non-null   object \n",
      " 8   avg_glucose_level  5109 non-null   float64\n",
      " 9   bmi                5109 non-null   float64\n",
      " 10  smoking_status     5109 non-null   object \n",
      " 11  stroke             5109 non-null   int64  \n",
      "dtypes: float64(3), int64(4), object(5)\n",
      "memory usage: 647.9+ KB\n"
     ]
    }
   ],
   "source": [
    "df.info()"
   ]
  },
  {
   "cell_type": "code",
   "execution_count": 214,
   "metadata": {},
   "outputs": [],
   "source": [
    "# Converting all cat features to int\n",
    "df['gender'] = df['gender'].map({\n",
    "    'Male' : int(0),\n",
    "    'Female' : int(1)\n",
    "})\n",
    "\n",
    "df['ever_married'] = df['ever_married'].map({\n",
    "    'Yes': int(1),\n",
    "    'No' : int(0)\n",
    "})\n",
    "\n",
    "df['work_type'] = df['work_type'].map({\n",
    "    'Private':int(3), \n",
    "    'Self-employed':int(4),\n",
    "    'Govt_job':int(2), \n",
    "    'children':int(1), \n",
    "    'Never_worked':int(0)\n",
    "})\n",
    "\n",
    "df['Residence_type'] = df['Residence_type'].map({\n",
    "    'Urban':int(2), \n",
    "    'Rural':int(1)\n",
    "})\n",
    "\n",
    "# smoking_status\n",
    "df['smoking_status'] = df['smoking_status'].map({\n",
    "    'formerly smoked':int(1),\n",
    "    'never smoked':int(2), \n",
    "    'smokes':int(3),\n",
    "    'Unknown':int(0)\n",
    "})"
   ]
  },
  {
   "cell_type": "code",
   "execution_count": 215,
   "metadata": {},
   "outputs": [
    {
     "name": "stdout",
     "output_type": "stream",
     "text": [
      "<class 'pandas.core.frame.DataFrame'>\n",
      "Int64Index: 5109 entries, 0 to 5109\n",
      "Data columns (total 12 columns):\n",
      " #   Column             Non-Null Count  Dtype  \n",
      "---  ------             --------------  -----  \n",
      " 0   id                 5109 non-null   int64  \n",
      " 1   gender             5109 non-null   int64  \n",
      " 2   age                5109 non-null   float64\n",
      " 3   hypertension       5109 non-null   int64  \n",
      " 4   heart_disease      5109 non-null   int64  \n",
      " 5   ever_married       5109 non-null   int64  \n",
      " 6   work_type          5109 non-null   int64  \n",
      " 7   Residence_type     5109 non-null   int64  \n",
      " 8   avg_glucose_level  5109 non-null   float64\n",
      " 9   bmi                5109 non-null   float64\n",
      " 10  smoking_status     5109 non-null   int64  \n",
      " 11  stroke             5109 non-null   int64  \n",
      "dtypes: float64(3), int64(9)\n",
      "memory usage: 647.9 KB\n"
     ]
    }
   ],
   "source": [
    "df.info()"
   ]
  },
  {
   "cell_type": "markdown",
   "metadata": {},
   "source": [
    "For this project as we have already observed that our target feature is highly unbalanced. To solve this problem I will be experimenting with three differnet sampling methods.\n",
    "- Sampling using SMOTE\n",
    "- Oversampling\n",
    "- Undersamplig"
   ]
  },
  {
   "cell_type": "markdown",
   "metadata": {},
   "source": [
    "### Sampling using SMOTE "
   ]
  },
  {
   "cell_type": "code",
   "execution_count": 19,
   "metadata": {},
   "outputs": [],
   "source": [
    "X = df.drop(['stroke'],axis = 1)\n",
    "y = df.pop('stroke')"
   ]
  },
  {
   "cell_type": "code",
   "execution_count": 20,
   "metadata": {},
   "outputs": [],
   "source": [
    "from sklearn.model_selection import train_test_split\n",
    "\n",
    "X_train, X_test,y_train,y_test = train_test_split(X, y,test_size=0.30,random_state=1)"
   ]
  },
  {
   "cell_type": "code",
   "execution_count": 22,
   "metadata": {},
   "outputs": [],
   "source": [
    "from imblearn.over_sampling import SMOTE\n",
    "\n",
    "sm = SMOTE(random_state=27, sampling_strategy=1.0)\n",
    "X_train, y_train = sm.fit_resample(X_train, y_train)"
   ]
  },
  {
   "cell_type": "code",
   "execution_count": 23,
   "metadata": {},
   "outputs": [],
   "source": [
    "from sklearn.preprocessing import StandardScaler\n",
    "\n",
    "sc = StandardScaler()\n",
    "\n",
    "X_train = sc.fit_transform(X_train)\n",
    "X_test = sc.transform(X_test)"
   ]
  },
  {
   "cell_type": "code",
   "execution_count": 24,
   "metadata": {},
   "outputs": [
    {
     "name": "stdout",
     "output_type": "stream",
     "text": [
      "Accuracy on Train set 1.0\n",
      "Accuracy on Test set 0.8649706457925636\n",
      "F1-score on Test set: 0.16867469879518074\n",
      "\n",
      "\n",
      "              precision    recall  f1-score   support\n",
      "\n",
      "           0       0.95      0.90      0.93      1450\n",
      "           1       0.13      0.25      0.17        83\n",
      "\n",
      "    accuracy                           0.86      1533\n",
      "   macro avg       0.54      0.58      0.55      1533\n",
      "weighted avg       0.91      0.86      0.89      1533\n",
      "\n"
     ]
    }
   ],
   "source": [
    "from sklearn.tree import DecisionTreeClassifier\n",
    "from sklearn import metrics\n",
    "\n",
    "DT_model = DecisionTreeClassifier(random_state=0)\n",
    "\n",
    "# fit the model\n",
    "DT_model.fit(X_train_sm,y_train_sm)\n",
    "\n",
    "# model score\n",
    "predict_train_DT = DT_model.predict(X_train_sm)\n",
    "predict_test_DT = DT_model.predict(X_test)\n",
    "\n",
    "# accuracy score\n",
    "DT_train_score = DT_model.score(X_train_sm,y_train)\n",
    "DT_test_score = DT_model.score(X_test,y_test)\n",
    "\n",
    "# f1-score\n",
    "DT_f1_score = metrics.f1_score(y_test, predict_test_DT)\n",
    "\n",
    "print('Accuracy on Train set',DT_train_score)\n",
    "print('Accuracy on Test set',DT_test_score)\n",
    "print('F1-score on Test set:',DT_f1_score)\n",
    "print('\\n')\n",
    "print(metrics.classification_report(y_test, predict_test_DT))"
   ]
  },
  {
   "cell_type": "markdown",
   "metadata": {},
   "source": [
    "#### What can we infer from above analysis\n",
    "- Using Decision-Tree Classifier we have gotten a goog accuracy for training set but moderated accuracy in testing set which meaning model is overfitting.\n",
    "- Precision and Recall for class '0' turned out to be great but performed very poorly for class '1'"
   ]
  },
  {
   "cell_type": "markdown",
   "metadata": {},
   "source": [
    "### Oversampling"
   ]
  },
  {
   "cell_type": "code",
   "execution_count": 216,
   "metadata": {},
   "outputs": [],
   "source": [
    "from sklearn.utils import resample\n",
    "\n",
    "X = df.drop(['stroke'],axis = 1)\n",
    "y = df.pop('stroke')"
   ]
  },
  {
   "cell_type": "code",
   "execution_count": 217,
   "metadata": {},
   "outputs": [],
   "source": [
    "from sklearn.model_selection import train_test_split\n",
    "\n",
    "X_train, X_test,y_train,y_test = train_test_split(X, y,test_size=0.30,random_state=1)"
   ]
  },
  {
   "cell_type": "code",
   "execution_count": 218,
   "metadata": {},
   "outputs": [],
   "source": [
    "X_new = pd.concat([X_train, y_train], axis = 1)\n",
    "\n",
    "not_stroke = X_new[X_new.stroke == 0]\n",
    "stoke = X_new[X_new.stroke == 1]"
   ]
  },
  {
   "cell_type": "code",
   "execution_count": 219,
   "metadata": {},
   "outputs": [],
   "source": [
    "stoke_upsampled = resample(stoke,\n",
    "                          replace=True, # sample with replacement\n",
    "                          n_samples=len(not_stroke), # match number in majority class\n",
    "                          random_state=27) # reproducible results"
   ]
  },
  {
   "cell_type": "code",
   "execution_count": 220,
   "metadata": {},
   "outputs": [],
   "source": [
    "upsampled = pd.concat([not_stroke, stoke_upsampled])"
   ]
  },
  {
   "cell_type": "code",
   "execution_count": 221,
   "metadata": {},
   "outputs": [
    {
     "data": {
      "text/plain": [
       "0    3410\n",
       "1    3410\n",
       "Name: stroke, dtype: int64"
      ]
     },
     "execution_count": 221,
     "metadata": {},
     "output_type": "execute_result"
    }
   ],
   "source": [
    "upsampled.stroke.value_counts()"
   ]
  },
  {
   "cell_type": "code",
   "execution_count": 222,
   "metadata": {},
   "outputs": [],
   "source": [
    "X_train = upsampled.drop('stroke', axis = 1)\n",
    "y_train = upsampled.stroke"
   ]
  },
  {
   "cell_type": "code",
   "execution_count": 223,
   "metadata": {},
   "outputs": [],
   "source": [
    "from sklearn.preprocessing import StandardScaler\n",
    "\n",
    "sc = StandardScaler()\n",
    "\n",
    "X_train = sc.fit_transform(X_train)\n",
    "X_test = sc.transform(X_test)"
   ]
  },
  {
   "cell_type": "code",
   "execution_count": 224,
   "metadata": {},
   "outputs": [
    {
     "name": "stdout",
     "output_type": "stream",
     "text": [
      "Accuracy on Train set 1.0\n",
      "Accuracy on Test set 0.9171559034572733\n",
      "F1-score on Test set: 0.1806451612903226\n",
      "\n",
      "\n",
      "              precision    recall  f1-score   support\n",
      "\n",
      "           0       0.95      0.96      0.96      1450\n",
      "           1       0.19      0.17      0.18        83\n",
      "\n",
      "    accuracy                           0.92      1533\n",
      "   macro avg       0.57      0.56      0.57      1533\n",
      "weighted avg       0.91      0.92      0.91      1533\n",
      "\n"
     ]
    }
   ],
   "source": [
    "from sklearn.tree import DecisionTreeClassifier\n",
    "from sklearn import metrics\n",
    "\n",
    "DT_model = DecisionTreeClassifier(random_state=0)\n",
    "\n",
    "# fit the model\n",
    "DT_model.fit(X_train,y_train)\n",
    "\n",
    "# model score\n",
    "predict_train_DT = DT_model.predict(X_train)\n",
    "predict_test_DT = DT_model.predict(X_test)\n",
    "\n",
    "# accuracy score\n",
    "DT_train_score = DT_model.score(X_train,y_train)\n",
    "DT_test_score = DT_model.score(X_test,y_test)\n",
    "\n",
    "# f1-score\n",
    "DT_f1_score = metrics.f1_score(y_test, predict_test_DT)\n",
    "\n",
    "print('Accuracy on Train set',DT_train_score)\n",
    "print('Accuracy on Test set',DT_test_score)\n",
    "print('F1-score on Test set:',DT_f1_score)\n",
    "print('\\n')\n",
    "print(metrics.classification_report(y_test, predict_test_DT))"
   ]
  },
  {
   "cell_type": "markdown",
   "metadata": {},
   "source": [
    "### UnderSampling"
   ]
  },
  {
   "cell_type": "code",
   "execution_count": 188,
   "metadata": {},
   "outputs": [],
   "source": [
    "from sklearn.utils import resample\n",
    "\n",
    "X = df.drop(['stroke'],axis = 1)\n",
    "y = df.pop('stroke')"
   ]
  },
  {
   "cell_type": "code",
   "execution_count": 192,
   "metadata": {},
   "outputs": [],
   "source": [
    "from sklearn.model_selection import train_test_split\n",
    "\n",
    "X_train, X_test,y_train,y_test = train_test_split(X, y,test_size=0.30,random_state=1)\n",
    "\n",
    "X_new = pd.concat([X_train, y_train], axis = 1)\n",
    "\n",
    "not_stroke = X_new[X_new.stroke == 0]\n",
    "stroke = X_new[X_new.stroke == 1]\n",
    "\n",
    "stroke_downsampled = resample(not_stroke,\n",
    "                          replace=False, # sample with replacement\n",
    "                          n_samples=len(stroke), # match number in minority class\n",
    "                          random_state=27) # reproducible results"
   ]
  },
  {
   "cell_type": "code",
   "execution_count": 194,
   "metadata": {},
   "outputs": [
    {
     "name": "stdout",
     "output_type": "stream",
     "text": [
      "0    166\n",
      "1    166\n",
      "Name: stroke, dtype: int64\n"
     ]
    }
   ],
   "source": [
    "downsampled = pd.concat([stroke_downsampled, stroke])\n",
    "print(downsampled.stroke.value_counts())"
   ]
  },
  {
   "cell_type": "code",
   "execution_count": 195,
   "metadata": {},
   "outputs": [],
   "source": [
    "X_train = downsampled.drop('stroke', axis = 1)\n",
    "y_train = downsampled.stroke"
   ]
  },
  {
   "cell_type": "code",
   "execution_count": 196,
   "metadata": {},
   "outputs": [],
   "source": [
    "from sklearn.preprocessing import StandardScaler\n",
    "\n",
    "sc = StandardScaler()\n",
    "\n",
    "X_train = sc.fit_transform(X_train)\n",
    "X_test = sc.transform(X_test)"
   ]
  },
  {
   "cell_type": "code",
   "execution_count": 197,
   "metadata": {},
   "outputs": [
    {
     "name": "stdout",
     "output_type": "stream",
     "text": [
      "Accuracy on Train set 1.0\n",
      "Accuracy on Test set 0.6934116112198304\n",
      "F1-score on Test set: 0.20338983050847456\n",
      "\n",
      "\n",
      "              precision    recall  f1-score   support\n",
      "\n",
      "           0       0.98      0.69      0.81      1450\n",
      "           1       0.12      0.72      0.20        83\n",
      "\n",
      "    accuracy                           0.69      1533\n",
      "   macro avg       0.55      0.71      0.51      1533\n",
      "weighted avg       0.93      0.69      0.78      1533\n",
      "\n"
     ]
    }
   ],
   "source": [
    "from sklearn.tree import DecisionTreeClassifier\n",
    "from sklearn import metrics\n",
    "\n",
    "DT_model = DecisionTreeClassifier(random_state=0)\n",
    "\n",
    "# fit the model\n",
    "DT_model.fit(X_train,y_train)\n",
    "\n",
    "# model score\n",
    "predict_train_DT = DT_model.predict(X_train)\n",
    "predict_test_DT = DT_model.predict(X_test)\n",
    "\n",
    "# accuracy score\n",
    "DT_train_score = DT_model.score(X_train,y_train)\n",
    "DT_test_score = DT_model.score(X_test,y_test)\n",
    "\n",
    "# f1-score\n",
    "DT_f1_score = metrics.f1_score(y_test, predict_test_DT)\n",
    "\n",
    "print('Accuracy on Train set',DT_train_score)\n",
    "print('Accuracy on Test set',DT_test_score)\n",
    "print('F1-score on Test set:',DT_f1_score)\n",
    "print('\\n')\n",
    "print(metrics.classification_report(y_test, predict_test_DT))"
   ]
  }
 ],
 "metadata": {
  "kernelspec": {
   "display_name": "Python 3 (ipykernel)",
   "language": "python",
   "name": "python3"
  },
  "language_info": {
   "codemirror_mode": {
    "name": "ipython",
    "version": 3
   },
   "file_extension": ".py",
   "mimetype": "text/x-python",
   "name": "python",
   "nbconvert_exporter": "python",
   "pygments_lexer": "ipython3",
   "version": "3.8.13"
  }
 },
 "nbformat": 4,
 "nbformat_minor": 4
}
